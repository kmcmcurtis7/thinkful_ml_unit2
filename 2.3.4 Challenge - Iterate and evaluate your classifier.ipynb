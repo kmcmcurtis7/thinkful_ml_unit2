{
 "cells": [
  {
   "cell_type": "markdown",
   "metadata": {},
   "source": [
    "It's time to revisit your classifier from the previous assignment. Using the evaluation techniques we've covered here, look at your classifier's performance in more detail. Then go back and iterate by engineering new features, removing poor features, or tuning parameters. Repeat this process until you have five different versions of your classifier. Once you've iterated, answer these questions to compare the performance of each:\n",
    "\n",
    "* Do any of your classifiers seem to overfit?\n",
    "* Which seem to perform the best? Why?\n",
    "* Which features seemed to be most impactful to performance?\n",
    "\n",
    "Write up your iterations and answers to the above questions in a few pages. Submit a link below and go over it with your mentor to see if they have any other ideas on how you could improve your classifier's performance."
   ]
  },
  {
   "cell_type": "markdown",
   "metadata": {},
   "source": [
    "I chose the [yelp.com data](https://archive.ics.uci.edu/ml/datasets/Sentiment+Labelled+Sentences) to classify."
   ]
  },
  {
   "cell_type": "code",
   "execution_count": 1,
   "metadata": {},
   "outputs": [],
   "source": [
    "import numpy as np\n",
    "import pandas as pd\n",
    "import matplotlib.pyplot as plt\n",
    "import scipy\n",
    "import sklearn\n",
    "import seaborn as sns"
   ]
  },
  {
   "cell_type": "code",
   "execution_count": 2,
   "metadata": {},
   "outputs": [],
   "source": [
    "raw_data = pd.read_csv('data/yelp_labelled.txt', delimiter='\\t', encoding='latin-1',\n",
    "                      header=None)\n",
    "raw_data.columns = ['messages','review']"
   ]
  },
  {
   "cell_type": "code",
   "execution_count": 3,
   "metadata": {},
   "outputs": [],
   "source": [
    "# Fixing display option to show complete messages\n",
    "pd.set_option('display.max_colwidth', -1)"
   ]
  },
  {
   "cell_type": "code",
   "execution_count": 4,
   "metadata": {},
   "outputs": [
    {
     "data": {
      "text/html": [
       "<div>\n",
       "<style scoped>\n",
       "    .dataframe tbody tr th:only-of-type {\n",
       "        vertical-align: middle;\n",
       "    }\n",
       "\n",
       "    .dataframe tbody tr th {\n",
       "        vertical-align: top;\n",
       "    }\n",
       "\n",
       "    .dataframe thead th {\n",
       "        text-align: right;\n",
       "    }\n",
       "</style>\n",
       "<table border=\"1\" class=\"dataframe\">\n",
       "  <thead>\n",
       "    <tr style=\"text-align: right;\">\n",
       "      <th></th>\n",
       "      <th>messages</th>\n",
       "      <th>review</th>\n",
       "    </tr>\n",
       "  </thead>\n",
       "  <tbody>\n",
       "    <tr>\n",
       "      <th>997</th>\n",
       "      <td>Overall I was not impressed and would not go back.</td>\n",
       "      <td>0</td>\n",
       "    </tr>\n",
       "    <tr>\n",
       "      <th>998</th>\n",
       "      <td>The whole experience was underwhelming, and I think we'll just go to Ninja Sushi next time.</td>\n",
       "      <td>0</td>\n",
       "    </tr>\n",
       "    <tr>\n",
       "      <th>999</th>\n",
       "      <td>Then, as if I hadn't wasted enough of my life there, they poured salt in the wound by drawing out the time it took to bring the check.</td>\n",
       "      <td>0</td>\n",
       "    </tr>\n",
       "  </tbody>\n",
       "</table>\n",
       "</div>"
      ],
      "text/plain": [
       "                                                                                                                                   messages  \\\n",
       "997  Overall I was not impressed and would not go back.                                                                                       \n",
       "998  The whole experience was underwhelming, and I think we'll just go to Ninja Sushi next time.                                              \n",
       "999  Then, as if I hadn't wasted enough of my life there, they poured salt in the wound by drawing out the time it took to bring the check.   \n",
       "\n",
       "     review  \n",
       "997  0       \n",
       "998  0       \n",
       "999  0       "
      ]
     },
     "execution_count": 4,
     "metadata": {},
     "output_type": "execute_result"
    }
   ],
   "source": [
    "raw_data.tail(3)"
   ]
  },
  {
   "cell_type": "code",
   "execution_count": 5,
   "metadata": {},
   "outputs": [],
   "source": [
    "df = raw_data.copy()"
   ]
  },
  {
   "cell_type": "markdown",
   "metadata": {},
   "source": [
    "### Model 1 - Identifying Negative Messages"
   ]
  },
  {
   "cell_type": "code",
   "execution_count": 6,
   "metadata": {},
   "outputs": [],
   "source": [
    "# Selecting negative keywords\n",
    "keywords = ['avoid', 'bad', 'disappointed','nasty', 'overpriced', 'slow', 'tasteless','rude', \n",
    "            'undercooked', 'wasted', 'terrible', 'wasted','avoid','not ']\n",
    "\n",
    "for key in keywords:\n",
    "    df[str(key)] = df.messages.str.contains(\n",
    "    '' + str(key) + '',\n",
    "    case=False)"
   ]
  },
  {
   "cell_type": "code",
   "execution_count": 7,
   "metadata": {},
   "outputs": [],
   "source": [
    "# Feature for detecting all caps messages\n",
    "df['allcaps'] = df['messages'].str.isupper()"
   ]
  },
  {
   "cell_type": "code",
   "execution_count": 8,
   "metadata": {},
   "outputs": [],
   "source": [
    "# Making negative reviews Trues\n",
    "df['message'] = (df['review'] == 0)"
   ]
  },
  {
   "cell_type": "code",
   "execution_count": 9,
   "metadata": {},
   "outputs": [
    {
     "data": {
      "text/html": [
       "<div>\n",
       "<style scoped>\n",
       "    .dataframe tbody tr th:only-of-type {\n",
       "        vertical-align: middle;\n",
       "    }\n",
       "\n",
       "    .dataframe tbody tr th {\n",
       "        vertical-align: top;\n",
       "    }\n",
       "\n",
       "    .dataframe thead th {\n",
       "        text-align: right;\n",
       "    }\n",
       "</style>\n",
       "<table border=\"1\" class=\"dataframe\">\n",
       "  <thead>\n",
       "    <tr style=\"text-align: right;\">\n",
       "      <th></th>\n",
       "      <th>messages</th>\n",
       "      <th>review</th>\n",
       "      <th>avoid</th>\n",
       "      <th>bad</th>\n",
       "      <th>disappointed</th>\n",
       "      <th>nasty</th>\n",
       "      <th>overpriced</th>\n",
       "      <th>slow</th>\n",
       "      <th>tasteless</th>\n",
       "      <th>rude</th>\n",
       "      <th>undercooked</th>\n",
       "      <th>wasted</th>\n",
       "      <th>terrible</th>\n",
       "      <th>not</th>\n",
       "      <th>allcaps</th>\n",
       "      <th>message</th>\n",
       "    </tr>\n",
       "  </thead>\n",
       "  <tbody>\n",
       "    <tr>\n",
       "      <th>0</th>\n",
       "      <td>Wow... Loved this place.</td>\n",
       "      <td>1</td>\n",
       "      <td>False</td>\n",
       "      <td>False</td>\n",
       "      <td>False</td>\n",
       "      <td>False</td>\n",
       "      <td>False</td>\n",
       "      <td>False</td>\n",
       "      <td>False</td>\n",
       "      <td>False</td>\n",
       "      <td>False</td>\n",
       "      <td>False</td>\n",
       "      <td>False</td>\n",
       "      <td>False</td>\n",
       "      <td>False</td>\n",
       "      <td>False</td>\n",
       "    </tr>\n",
       "    <tr>\n",
       "      <th>1</th>\n",
       "      <td>Crust is not good.</td>\n",
       "      <td>0</td>\n",
       "      <td>False</td>\n",
       "      <td>False</td>\n",
       "      <td>False</td>\n",
       "      <td>False</td>\n",
       "      <td>False</td>\n",
       "      <td>False</td>\n",
       "      <td>False</td>\n",
       "      <td>False</td>\n",
       "      <td>False</td>\n",
       "      <td>False</td>\n",
       "      <td>False</td>\n",
       "      <td>True</td>\n",
       "      <td>False</td>\n",
       "      <td>True</td>\n",
       "    </tr>\n",
       "    <tr>\n",
       "      <th>2</th>\n",
       "      <td>Not tasty and the texture was just nasty.</td>\n",
       "      <td>0</td>\n",
       "      <td>False</td>\n",
       "      <td>False</td>\n",
       "      <td>False</td>\n",
       "      <td>True</td>\n",
       "      <td>False</td>\n",
       "      <td>False</td>\n",
       "      <td>False</td>\n",
       "      <td>False</td>\n",
       "      <td>False</td>\n",
       "      <td>False</td>\n",
       "      <td>False</td>\n",
       "      <td>True</td>\n",
       "      <td>False</td>\n",
       "      <td>True</td>\n",
       "    </tr>\n",
       "    <tr>\n",
       "      <th>3</th>\n",
       "      <td>Stopped by during the late May bank holiday off Rick Steve recommendation and loved it.</td>\n",
       "      <td>1</td>\n",
       "      <td>False</td>\n",
       "      <td>False</td>\n",
       "      <td>False</td>\n",
       "      <td>False</td>\n",
       "      <td>False</td>\n",
       "      <td>False</td>\n",
       "      <td>False</td>\n",
       "      <td>False</td>\n",
       "      <td>False</td>\n",
       "      <td>False</td>\n",
       "      <td>False</td>\n",
       "      <td>False</td>\n",
       "      <td>False</td>\n",
       "      <td>False</td>\n",
       "    </tr>\n",
       "    <tr>\n",
       "      <th>4</th>\n",
       "      <td>The selection on the menu was great and so were the prices.</td>\n",
       "      <td>1</td>\n",
       "      <td>False</td>\n",
       "      <td>False</td>\n",
       "      <td>False</td>\n",
       "      <td>False</td>\n",
       "      <td>False</td>\n",
       "      <td>False</td>\n",
       "      <td>False</td>\n",
       "      <td>False</td>\n",
       "      <td>False</td>\n",
       "      <td>False</td>\n",
       "      <td>False</td>\n",
       "      <td>False</td>\n",
       "      <td>False</td>\n",
       "      <td>False</td>\n",
       "    </tr>\n",
       "  </tbody>\n",
       "</table>\n",
       "</div>"
      ],
      "text/plain": [
       "                                                                                  messages  \\\n",
       "0  Wow... Loved this place.                                                                  \n",
       "1  Crust is not good.                                                                        \n",
       "2  Not tasty and the texture was just nasty.                                                 \n",
       "3  Stopped by during the late May bank holiday off Rick Steve recommendation and loved it.   \n",
       "4  The selection on the menu was great and so were the prices.                               \n",
       "\n",
       "   review  avoid    bad  disappointed  nasty  overpriced   slow  tasteless  \\\n",
       "0  1       False  False  False         False  False       False  False       \n",
       "1  0       False  False  False         False  False       False  False       \n",
       "2  0       False  False  False         True   False       False  False       \n",
       "3  1       False  False  False         False  False       False  False       \n",
       "4  1       False  False  False         False  False       False  False       \n",
       "\n",
       "    rude  undercooked  wasted  terrible   not   allcaps  message  \n",
       "0  False  False        False   False     False  False    False    \n",
       "1  False  False        False   False     True   False    True     \n",
       "2  False  False        False   False     True   False    True     \n",
       "3  False  False        False   False     False  False    False    \n",
       "4  False  False        False   False     False  False    False    "
      ]
     },
     "execution_count": 9,
     "metadata": {},
     "output_type": "execute_result"
    }
   ],
   "source": [
    "df.head()"
   ]
  },
  {
   "cell_type": "code",
   "execution_count": 10,
   "metadata": {},
   "outputs": [],
   "source": [
    "data = df[keywords + ['avoid']]\n",
    "target = df['review']"
   ]
  },
  {
   "cell_type": "code",
   "execution_count": 11,
   "metadata": {},
   "outputs": [
    {
     "data": {
      "text/plain": [
       "<matplotlib.axes._subplots.AxesSubplot at 0x1a1cee5668>"
      ]
     },
     "execution_count": 11,
     "metadata": {},
     "output_type": "execute_result"
    },
    {
     "data": {
      "image/png": "[encoded data removed]",
      "text/plain": [
       "<Figure size 576x576 with 2 Axes>"
      ]
     },
     "metadata": {
      "needs_background": "light"
     },
     "output_type": "display_data"
    }
   ],
   "source": [
    "plt.figure(figsize=(8, 8))\n",
    "sns.heatmap(df.corr(), center=0, cmap='bwr',vmax=1,vmin=-1)"
   ]
  },
  {
   "cell_type": "markdown",
   "metadata": {},
   "source": [
    "#### Negative words with .2 or higher (not including message): Avoid, bad, nasty, rude, allcaps.  Let's see how the Bernoulli classifier is labeling this dataset."
   ]
  },
  {
   "cell_type": "code",
   "execution_count": 12,
   "metadata": {},
   "outputs": [
    {
     "name": "stdout",
     "output_type": "stream",
     "text": [
      "Number of mislabeled reviews out of a total 1000 reviews: 356\n",
      "Accuracy : 64.4%\n"
     ]
    }
   ],
   "source": [
    "# Our data is binary / boolean, so we're importing the Bernoulli classifier.\n",
    "from sklearn.naive_bayes import BernoulliNB\n",
    "\n",
    "# Instantiate our model and store it in a new variable\n",
    "bnb = BernoulliNB()\n",
    "\n",
    "# Fit our model to the data\n",
    "y_pred = bnb.fit(data, target).predict(data)\n",
    "\n",
    "# Display our results\n",
    "print('Number of mislabeled reviews out of a total {} reviews: {}'.format(\n",
    "    data.shape[0],\n",
    "    (target != y_pred).sum()\n",
    "))\n",
    "print(\"Accuracy : {}%\".format(\n",
    "    bnb.score(data, target) * 100\n",
    "))"
   ]
  },
  {
   "cell_type": "code",
   "execution_count": 13,
   "metadata": {},
   "outputs": [
    {
     "data": {
      "text/plain": [
       "987    True \n",
       "382    False\n",
       "240    True \n",
       "769    False\n",
       "371    True \n",
       "Name: message, dtype: bool"
      ]
     },
     "execution_count": 13,
     "metadata": {},
     "output_type": "execute_result"
    }
   ],
   "source": [
    "df['message'].sample(5)"
   ]
  },
  {
   "cell_type": "code",
   "execution_count": 14,
   "metadata": {},
   "outputs": [
    {
     "name": "stdout",
     "output_type": "stream",
     "text": [
      "CONFUSION MATRIX:\n",
      "[[166 334]\n",
      " [ 22 478]]\n",
      "\n",
      "ACCURACTY SCORE: 0.644\n"
     ]
    }
   ],
   "source": [
    "# Create confusion matrix\n",
    "from sklearn.metrics import confusion_matrix\n",
    "from sklearn.metrics import accuracy_score\n",
    "from sklearn.metrics import classification_report\n",
    "results = confusion_matrix(target,y_pred)\n",
    "\n",
    "print('CONFUSION MATRIX:')\n",
    "\n",
    "print(results)\n",
    "print('\\n' + 'ACCURACTY SCORE:',accuracy_score(target, y_pred))"
   ]
  },
  {
   "cell_type": "code",
   "execution_count": 15,
   "metadata": {},
   "outputs": [
    {
     "name": "stdout",
     "output_type": "stream",
     "text": [
      "With 20% Holdout: 0.605\n",
      "Testing on Sample: 0.644\n"
     ]
    }
   ],
   "source": [
    "# Test your model with different holdout groups.\n",
    "\n",
    "from sklearn.model_selection import train_test_split\n",
    "# Use train_test_split to create the necessary training and test groups\n",
    "X_train, X_test, y_train, y_test = train_test_split(data, target, test_size=0.2, random_state=20)\n",
    "print('With 20% Holdout: ' + str(bnb.fit(X_train, y_train).score(X_test, y_test)))\n",
    "print('Testing on Sample: ' + str(bnb.fit(data, target).score(data, target)))"
   ]
  },
  {
   "cell_type": "code",
   "execution_count": 16,
   "metadata": {},
   "outputs": [
    {
     "data": {
      "text/plain": [
       "array([0.62, 0.64, 0.63, 0.59, 0.64, 0.67, 0.69, 0.65, 0.66, 0.64])"
      ]
     },
     "execution_count": 16,
     "metadata": {},
     "output_type": "execute_result"
    }
   ],
   "source": [
    "from sklearn.model_selection import cross_val_score\n",
    "cross_val_score(bnb, data, target, cv=10)"
   ]
  },
  {
   "cell_type": "markdown",
   "metadata": {},
   "source": [
    "Testing with a 20% hold group comes out as 3.9% less with 20% holdout and identical on the testing sample.  And when cross validation is ran there is quite a variance among the scores from 0.59 to 0.69, so there is some overfitting going on.  \n",
    "\n",
    "Let's change models and see if there are any changes."
   ]
  },
  {
   "cell_type": "markdown",
   "metadata": {},
   "source": [
    "### Model 2 - Gaussian Naive Bayes"
   ]
  },
  {
   "cell_type": "markdown",
   "metadata": {},
   "source": [
    "Using the same keywords and dataset for second model."
   ]
  },
  {
   "cell_type": "code",
   "execution_count": 17,
   "metadata": {},
   "outputs": [],
   "source": [
    "data2 = df[keywords + ['avoid']]\n",
    "target2 = df['review']"
   ]
  },
  {
   "cell_type": "code",
   "execution_count": 18,
   "metadata": {},
   "outputs": [
    {
     "name": "stdout",
     "output_type": "stream",
     "text": [
      "Number of mislabeled reviews out of a total 1000 reviews: 434\n",
      "Accuracy : 56.599999999999994%\n"
     ]
    }
   ],
   "source": [
    "# Model 2 - Gaussian Naive Bayes\n",
    "from sklearn.naive_bayes import GaussianNB\n",
    "gnb = GaussianNB()\n",
    "\n",
    "y_pred2 = gnb.fit(data2, target2).predict(data2)\n",
    "print('Number of mislabeled reviews out of a total {} reviews: {}'.format(\n",
    "    data2.shape[0],\n",
    "    (target2 != y_pred2).sum()\n",
    "))\n",
    "print(\"Accuracy : {}%\".format(\n",
    "    gnb.score(data2, target2) * 100\n",
    "))"
   ]
  },
  {
   "cell_type": "code",
   "execution_count": 19,
   "metadata": {},
   "outputs": [
    {
     "name": "stdout",
     "output_type": "stream",
     "text": [
      "CONFUSION MATRIX:\n",
      "[[ 66 434]\n",
      " [  0 500]]\n",
      "\n",
      "ACCURACTY SCORE: 0.566\n"
     ]
    }
   ],
   "source": [
    "# Model 2 - Create confusion matrix\n",
    "results2 = confusion_matrix(target2,y_pred2)\n",
    "\n",
    "print('CONFUSION MATRIX:')\n",
    "\n",
    "print(results2)\n",
    "print('\\n' + 'ACCURACTY SCORE:',accuracy_score(target2, y_pred2))"
   ]
  },
  {
   "cell_type": "code",
   "execution_count": 20,
   "metadata": {},
   "outputs": [
    {
     "name": "stdout",
     "output_type": "stream",
     "text": [
      "With 20% Holdout: 0.545\n",
      "Testing on Sample: 0.566\n"
     ]
    }
   ],
   "source": [
    "# Model 2 - Test your model with different holdout groups.\n",
    "\n",
    "from sklearn.model_selection import train_test_split\n",
    "# Use train_test_split to create the necessary training and test groups\n",
    "X_train2, X_test2, y_train2, y_test2 = train_test_split(data2, target2, test_size=0.2, random_state=20)\n",
    "print('With 20% Holdout: ' + str(gnb.fit(X_train2, y_train2).score(X_test2, y_test2)))\n",
    "print('Testing on Sample: ' + str(gnb.fit(data2, target2).score(data2, target2)))"
   ]
  },
  {
   "cell_type": "code",
   "execution_count": 21,
   "metadata": {},
   "outputs": [
    {
     "data": {
      "text/plain": [
       "array([0.56, 0.59, 0.54, 0.56, 0.55, 0.56, 0.57, 0.59, 0.57, 0.56])"
      ]
     },
     "execution_count": 21,
     "metadata": {},
     "output_type": "execute_result"
    }
   ],
   "source": [
    "# Model 2 - cross validation\n",
    "from sklearn.model_selection import cross_val_score\n",
    "cross_val_score(gnb, data2, target2, cv=10)"
   ]
  },
  {
   "cell_type": "markdown",
   "metadata": {},
   "source": [
    "Gaussian Naive Bayes model accuracy decreased from our first model (64.4% to 56.6%), however there does not seem to be as much overfitting as shown by the cross validation from 0.54 to 0.59."
   ]
  },
  {
   "cell_type": "markdown",
   "metadata": {},
   "source": [
    "Perhaps switching to a postive model might improve accuracy and lower overfitting versus the prior two models looking for negative messages.\n",
    "\n",
    "### Model 3 - Identifying Positive Messages"
   ]
  },
  {
   "cell_type": "code",
   "execution_count": 22,
   "metadata": {},
   "outputs": [],
   "source": [
    "# Model 3 Based on positive messages\n",
    "df3 = raw_data.copy()"
   ]
  },
  {
   "cell_type": "code",
   "execution_count": 23,
   "metadata": {},
   "outputs": [
    {
     "data": {
      "text/html": [
       "<div>\n",
       "<style scoped>\n",
       "    .dataframe tbody tr th:only-of-type {\n",
       "        vertical-align: middle;\n",
       "    }\n",
       "\n",
       "    .dataframe tbody tr th {\n",
       "        vertical-align: top;\n",
       "    }\n",
       "\n",
       "    .dataframe thead th {\n",
       "        text-align: right;\n",
       "    }\n",
       "</style>\n",
       "<table border=\"1\" class=\"dataframe\">\n",
       "  <thead>\n",
       "    <tr style=\"text-align: right;\">\n",
       "      <th></th>\n",
       "      <th>messages</th>\n",
       "      <th>review</th>\n",
       "    </tr>\n",
       "  </thead>\n",
       "  <tbody>\n",
       "    <tr>\n",
       "      <th>0</th>\n",
       "      <td>Wow... Loved this place.</td>\n",
       "      <td>1</td>\n",
       "    </tr>\n",
       "    <tr>\n",
       "      <th>1</th>\n",
       "      <td>Crust is not good.</td>\n",
       "      <td>0</td>\n",
       "    </tr>\n",
       "    <tr>\n",
       "      <th>2</th>\n",
       "      <td>Not tasty and the texture was just nasty.</td>\n",
       "      <td>0</td>\n",
       "    </tr>\n",
       "  </tbody>\n",
       "</table>\n",
       "</div>"
      ],
      "text/plain": [
       "                                    messages  review\n",
       "0  Wow... Loved this place.                   1     \n",
       "1  Crust is not good.                         0     \n",
       "2  Not tasty and the texture was just nasty.  0     "
      ]
     },
     "execution_count": 23,
     "metadata": {},
     "output_type": "execute_result"
    }
   ],
   "source": [
    "df3.head(3)"
   ]
  },
  {
   "cell_type": "code",
   "execution_count": 24,
   "metadata": {},
   "outputs": [],
   "source": [
    "# Model 3 - Selecting postive keywords\n",
    "keywords3 = ['great','amazing','beautiful','mmmm','loved','wow','happier','good','delight',\n",
    "            'best', 'quick','fresh','yummy','liked']\n",
    "\n",
    "for key3 in keywords3:\n",
    "    df3[str(key3)] = df3.messages.str.contains(\n",
    "    '' + str(key3) + '',\n",
    "    case=False)"
   ]
  },
  {
   "cell_type": "code",
   "execution_count": 25,
   "metadata": {},
   "outputs": [],
   "source": [
    "data3 = df3[keywords3 + ['great']]\n",
    "target3 = df3['review']"
   ]
  },
  {
   "cell_type": "code",
   "execution_count": 27,
   "metadata": {},
   "outputs": [
    {
     "data": {
      "text/plain": [
       "<matplotlib.axes._subplots.AxesSubplot at 0x1a1ddbba58>"
      ]
     },
     "execution_count": 27,
     "metadata": {},
     "output_type": "execute_result"
    },
    {
     "data": {
      "image/png": "[encoded data removed]",
      "text/plain": [
       "<Figure size 576x576 with 2 Axes>"
      ]
     },
     "metadata": {
      "needs_background": "light"
     },
     "output_type": "display_data"
    }
   ],
   "source": [
    "# Model 3\n",
    "plt.figure(figsize=(8, 8))\n",
    "sns.heatmap(df3.corr(), center=0, cmap='bwr',vmax=1,vmin=-1)"
   ]
  },
  {
   "cell_type": "code",
   "execution_count": 28,
   "metadata": {},
   "outputs": [
    {
     "name": "stdout",
     "output_type": "stream",
     "text": [
      "Number of mislabeled reviews out of a total 1000 reviews: 389\n",
      "Accuracy : 61.1%\n"
     ]
    }
   ],
   "source": [
    "# Model 3 - Gaussian Naive Bayes\n",
    "y_pred3 = gnb.fit(data3, target3).predict(data3)\n",
    "print('Number of mislabeled reviews out of a total {} reviews: {}'.format(\n",
    "    data2.shape[0],\n",
    "    (target3 != y_pred3).sum()\n",
    "))\n",
    "print(\"Accuracy : {}%\".format(\n",
    "    gnb.score(data3, target3) * 100\n",
    "))"
   ]
  },
  {
   "cell_type": "code",
   "execution_count": 29,
   "metadata": {},
   "outputs": [
    {
     "name": "stdout",
     "output_type": "stream",
     "text": [
      "CONFUSION MATRIX:\n",
      "[[494   6]\n",
      " [383 117]]\n",
      "\n",
      "ACCURACTY SCORE: 0.611\n"
     ]
    }
   ],
   "source": [
    "# Model 3 - confusion matrix\n",
    "results3 = confusion_matrix(target3,y_pred3)\n",
    "\n",
    "print('CONFUSION MATRIX:')\n",
    "\n",
    "print(results3)\n",
    "print('\\n' + 'ACCURACTY SCORE:',accuracy_score(target3, y_pred3))"
   ]
  },
  {
   "cell_type": "code",
   "execution_count": 30,
   "metadata": {},
   "outputs": [
    {
     "name": "stdout",
     "output_type": "stream",
     "text": [
      "With 20% Holdout: 0.61\n",
      "Testing on Sample: 0.611\n"
     ]
    }
   ],
   "source": [
    "# Model 3 - Test your model with different holdout groups.\n",
    "\n",
    "from sklearn.model_selection import train_test_split\n",
    "# Use train_test_split to create the necessary training and test groups\n",
    "X_train3, X_test3, y_train3, y_test3 = train_test_split(data3, target3, test_size=0.2, random_state=20)\n",
    "print('With 20% Holdout: ' + str(gnb.fit(X_train3, y_train3).score(X_test3, y_test3)))\n",
    "print('Testing on Sample: ' + str(gnb.fit(data3, target3).score(data3, target3)))"
   ]
  },
  {
   "cell_type": "code",
   "execution_count": 31,
   "metadata": {},
   "outputs": [
    {
     "data": {
      "text/plain": [
       "array([0.67, 0.56, 0.59, 0.59, 0.59, 0.57, 0.6 , 0.64, 0.58, 0.65])"
      ]
     },
     "execution_count": 31,
     "metadata": {},
     "output_type": "execute_result"
    }
   ],
   "source": [
    "cross_val_score(gnb, data3, target3, cv=10)"
   ]
  },
  {
   "cell_type": "markdown",
   "metadata": {},
   "source": [
    "My negative comment model was a little more successful at 64.4 though all models are fluctuating on the cross validation scores, so there is some overfitting. This is most likely due to not being able to take context of a sentence into consideration, such as some words can be in both types of reviews but have completely different meanings.\n",
    "\n",
    "Since people are more likely to write a negative message, I'm going to try to improve the negative message model with additional features.\n",
    "\n",
    "### Model 4"
   ]
  },
  {
   "cell_type": "code",
   "execution_count": 32,
   "metadata": {},
   "outputs": [],
   "source": [
    "# Model 4 -  Based on negative messages\n",
    "df4 = raw_data.copy()"
   ]
  },
  {
   "cell_type": "markdown",
   "metadata": {},
   "source": [
    "I am going to adjust which of our previous words we used and add some new ones to improve the overall results.\n",
    "'"
   ]
  },
  {
   "cell_type": "code",
   "execution_count": 33,
   "metadata": {},
   "outputs": [],
   "source": [
    "# Model 4 - Selecting negative keywords'\n",
    "keywords4 = ['angry','awful','avoid','avoided', 'bad', 'did not','disappointed','disgusted',\n",
    "             'do not','nasty','no','not ','overpriced', 'rude','suck', \n",
    "             'terrible','wasted']\n",
    "\n",
    "for key4 in keywords4:\n",
    "    df4[str(key4)] = df4.messages.str.contains(\n",
    "    '' + str(key4) + '',\n",
    "    case=False)"
   ]
  },
  {
   "cell_type": "code",
   "execution_count": 34,
   "metadata": {},
   "outputs": [],
   "source": [
    "# Feature for detecting all caps messages\n",
    "df4['allcaps'] = df4['messages'].str.isupper()"
   ]
  },
  {
   "cell_type": "code",
   "execution_count": 35,
   "metadata": {},
   "outputs": [],
   "source": [
    "# Making negative reviews Trues\n",
    "df4['message'] = (df4['review'] == 0)"
   ]
  },
  {
   "cell_type": "code",
   "execution_count": 37,
   "metadata": {},
   "outputs": [],
   "source": [
    "data4 = df4[keywords4 + ['angry']]\n",
    "target4 = df4['review']"
   ]
  },
  {
   "cell_type": "code",
   "execution_count": 38,
   "metadata": {},
   "outputs": [
    {
     "data": {
      "text/plain": [
       "<matplotlib.axes._subplots.AxesSubplot at 0x1a1df507b8>"
      ]
     },
     "execution_count": 38,
     "metadata": {},
     "output_type": "execute_result"
    },
    {
     "data": {
      "image/png": "[encoded data removed]",
      "text/plain": [
       "<Figure size 576x576 with 2 Axes>"
      ]
     },
     "metadata": {
      "needs_background": "light"
     },
     "output_type": "display_data"
    }
   ],
   "source": [
    "# Model \n",
    "plt.figure(figsize=(8, 8))\n",
    "sns.heatmap(df4.corr(), center=0, cmap='bwr',vmax=1,vmin=-1)"
   ]
  },
  {
   "cell_type": "markdown",
   "metadata": {},
   "source": [
    "You can see some strong correlation with avoid, avoided, nasty, no, and not.  But is there overfitting?"
   ]
  },
  {
   "cell_type": "code",
   "execution_count": 42,
   "metadata": {},
   "outputs": [
    {
     "name": "stdout",
     "output_type": "stream",
     "text": [
      "Number of mislabeled reviews out of a total 1000 reviews: 338\n",
      "Accuracy : 66.2%\n"
     ]
    }
   ],
   "source": [
    "# Fit our model to the data\n",
    "y_pred4 = bnb.fit(data4, target4).predict(data4)\n",
    "\n",
    "# Display our results\n",
    "print('Number of mislabeled reviews out of a total {} reviews: {}'.format(\n",
    "    data4.shape[0],\n",
    "    (target4 != y_pred4).sum()\n",
    "))\n",
    "print(\"Accuracy : {}%\".format(\n",
    "    bnb.score(data4, target4) * 100\n",
    "))"
   ]
  },
  {
   "cell_type": "markdown",
   "metadata": {},
   "source": [
    "The accuracy improved from 64.4, but is it actually better?"
   ]
  },
  {
   "cell_type": "code",
   "execution_count": 47,
   "metadata": {},
   "outputs": [
    {
     "name": "stdout",
     "output_type": "stream",
     "text": [
      "[[212 288]\n",
      " [ 50 450]]\n"
     ]
    }
   ],
   "source": [
    "# Model 4 confusion matrix\n",
    "results4 = confusion_matrix(target4,y_pred4)\n",
    "print(results4)"
   ]
  },
  {
   "cell_type": "code",
   "execution_count": 43,
   "metadata": {},
   "outputs": [
    {
     "name": "stdout",
     "output_type": "stream",
     "text": [
      "With 20% Holdout: 0.615\n",
      "Testing on Sample: 0.662\n"
     ]
    }
   ],
   "source": [
    "# Model 4 -Test your model with different holdout groups.\n",
    "\n",
    "# Use train_test_split to create the necessary training and test groups\n",
    "X_train4, X_test4, y_train4, y_test4 = train_test_split(data4, target4, test_size=0.2, random_state=20)\n",
    "print('With 20% Holdout: ' + str(bnb.fit(X_train4, y_train4).score(X_test4, y_test4)))\n",
    "print('Testing on Sample: ' + str(bnb.fit(data4, target4).score(data4, target4)))"
   ]
  },
  {
   "cell_type": "code",
   "execution_count": 44,
   "metadata": {},
   "outputs": [
    {
     "data": {
      "text/plain": [
       "array([0.62, 0.64, 0.63, 0.59, 0.64, 0.67, 0.69, 0.65, 0.66, 0.64])"
      ]
     },
     "execution_count": 44,
     "metadata": {},
     "output_type": "execute_result"
    }
   ],
   "source": [
    "# Model 4 - Cross Validation\n",
    "cross_val_score(bnb, data, target, cv=10)"
   ]
  },
  {
   "cell_type": "markdown",
   "metadata": {},
   "source": [
    "Again we have overfitting.  I believe because some of these words could easily be used in negative or positive reviews"
   ]
  },
  {
   "cell_type": "code",
   "execution_count": 50,
   "metadata": {},
   "outputs": [
    {
     "name": "stdout",
     "output_type": "stream",
     "text": [
      "Model 1:\n",
      " [[166 334]\n",
      " [ 22 478]] \n",
      "\n",
      "Model 2:\n",
      " [[ 66 434]\n",
      " [  0 500]] \n",
      "\n",
      "Model 4:\n",
      " [[212 288]\n",
      " [ 50 450]] \n",
      "\n"
     ]
    }
   ],
   "source": [
    "# Comparing all negative review models (1, 2, & 4)\n",
    "print('Model 1:\\n', confusion_matrix(target, y_pred), '\\n')\n",
    "print('Model 2:\\n', confusion_matrix(target2, y_pred2), '\\n')\n",
    "print('Model 4:\\n', confusion_matrix(target4, y_pred4), '\\n')"
   ]
  },
  {
   "cell_type": "markdown",
   "metadata": {},
   "source": [
    "Out of all our models Model 2 came out on top with all the negative reviews correctly identified and 0 errors from failing to identify a negative review."
   ]
  },
  {
   "cell_type": "code",
   "execution_count": null,
   "metadata": {},
   "outputs": [],
   "source": []
  }
 ],
 "metadata": {
  "kernelspec": {
   "display_name": "Python 3",
   "language": "python",
   "name": "python3"
  },
  "language_info": {
   "codemirror_mode": {
    "name": "ipython",
    "version": 3
   },
   "file_extension": ".py",
   "mimetype": "text/x-python",
   "name": "python",
   "nbconvert_exporter": "python",
   "pygments_lexer": "ipython3",
   "version": "3.7.3"
  }
 },
 "nbformat": 4,
 "nbformat_minor": 2
}
