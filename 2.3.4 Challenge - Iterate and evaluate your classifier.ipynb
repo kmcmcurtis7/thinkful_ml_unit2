{
 "cells": [
  {
   "cell_type": "markdown",
   "metadata": {},
   "source": [
    "It's time to revisit your classifier from the previous assignment. Using the evaluation techniques we've covered here, look at your classifier's performance in more detail. Then go back and iterate by engineering new features, removing poor features, or tuning parameters. Repeat this process until you have five different versions of your classifier. Once you've iterated, answer these questions to compare the performance of each:\n",
    "\n",
    "* Do any of your classifiers seem to overfit?\n",
    "* Which seem to perform the best? Why?\n",
    "* Which features seemed to be most impactful to performance?\n",
    "\n",
    "Write up your iterations and answers to the above questions in a few pages. Submit a link below and go over it with your mentor to see if they have any other ideas on how you could improve your classifier's performance."
   ]
  },
  {
   "cell_type": "markdown",
   "metadata": {},
   "source": [
    "I chose the [yelp.com data](https://archive.ics.uci.edu/ml/datasets/Sentiment+Labelled+Sentences) to classify."
   ]
  },
  {
   "cell_type": "code",
   "execution_count": 1,
   "metadata": {},
   "outputs": [],
   "source": [
    "import numpy as np\n",
    "import pandas as pd\n",
    "import matplotlib.pyplot as plt\n",
    "import scipy\n",
    "import sklearn\n",
    "import seaborn as sns"
   ]
  },
  {
   "cell_type": "code",
   "execution_count": 2,
   "metadata": {},
   "outputs": [],
   "source": [
    "raw_data = pd.read_csv('data/yelp_labelled.txt', delimiter='\\t', encoding='latin-1',\n",
    "                      header=None)\n",
    "raw_data.columns = ['messages','review']"
   ]
  },
  {
   "cell_type": "code",
   "execution_count": 3,
   "metadata": {},
   "outputs": [],
   "source": [
    "# Fixing display option to show complete messages\n",
    "pd.set_option('display.max_colwidth', -1)"
   ]
  },
  {
   "cell_type": "code",
   "execution_count": 4,
   "metadata": {},
   "outputs": [
    {
     "data": {
      "text/html": [
       "<div>\n",
       "<style scoped>\n",
       "    .dataframe tbody tr th:only-of-type {\n",
       "        vertical-align: middle;\n",
       "    }\n",
       "\n",
       "    .dataframe tbody tr th {\n",
       "        vertical-align: top;\n",
       "    }\n",
       "\n",
       "    .dataframe thead th {\n",
       "        text-align: right;\n",
       "    }\n",
       "</style>\n",
       "<table border=\"1\" class=\"dataframe\">\n",
       "  <thead>\n",
       "    <tr style=\"text-align: right;\">\n",
       "      <th></th>\n",
       "      <th>messages</th>\n",
       "      <th>review</th>\n",
       "    </tr>\n",
       "  </thead>\n",
       "  <tbody>\n",
       "    <tr>\n",
       "      <th>0</th>\n",
       "      <td>Wow... Loved this place.</td>\n",
       "      <td>1</td>\n",
       "    </tr>\n",
       "    <tr>\n",
       "      <th>1</th>\n",
       "      <td>Crust is not good.</td>\n",
       "      <td>0</td>\n",
       "    </tr>\n",
       "    <tr>\n",
       "      <th>2</th>\n",
       "      <td>Not tasty and the texture was just nasty.</td>\n",
       "      <td>0</td>\n",
       "    </tr>\n",
       "  </tbody>\n",
       "</table>\n",
       "</div>"
      ],
      "text/plain": [
       "                                    messages  review\n",
       "0  Wow... Loved this place.                   1     \n",
       "1  Crust is not good.                         0     \n",
       "2  Not tasty and the texture was just nasty.  0     "
      ]
     },
     "execution_count": 4,
     "metadata": {},
     "output_type": "execute_result"
    }
   ],
   "source": [
    "raw_data.head(3)"
   ]
  },
  {
   "cell_type": "code",
   "execution_count": 5,
   "metadata": {},
   "outputs": [],
   "source": [
    "df = raw_data.copy()"
   ]
  },
  {
   "cell_type": "markdown",
   "metadata": {},
   "source": [
    "### Model 1 - Identifying Negative Messages"
   ]
  },
  {
   "cell_type": "code",
   "execution_count": 6,
   "metadata": {},
   "outputs": [],
   "source": [
    "# Selecting negative keywords\n",
    "keywords = ['avoid', 'bad', 'disappointed','nasty', 'overpriced', 'slow', 'tasteless','rude', \n",
    "            'undercooked', 'wasted', 'terrible', 'wasted','avoid','not ']\n",
    "\n",
    "for key in keywords:\n",
    "    df[str(key)] = df.messages.str.contains(\n",
    "    '' + str(key) + '',\n",
    "    case=False)"
   ]
  },
  {
   "cell_type": "code",
   "execution_count": 7,
   "metadata": {},
   "outputs": [],
   "source": [
    "# Feature for detecting all caps messages\n",
    "df['allcaps'] = df['messages'].str.isupper()"
   ]
  },
  {
   "cell_type": "code",
   "execution_count": 8,
   "metadata": {},
   "outputs": [
    {
     "data": {
      "text/html": [
       "<div>\n",
       "<style scoped>\n",
       "    .dataframe tbody tr th:only-of-type {\n",
       "        vertical-align: middle;\n",
       "    }\n",
       "\n",
       "    .dataframe tbody tr th {\n",
       "        vertical-align: top;\n",
       "    }\n",
       "\n",
       "    .dataframe thead th {\n",
       "        text-align: right;\n",
       "    }\n",
       "</style>\n",
       "<table border=\"1\" class=\"dataframe\">\n",
       "  <thead>\n",
       "    <tr style=\"text-align: right;\">\n",
       "      <th></th>\n",
       "      <th>messages</th>\n",
       "      <th>review</th>\n",
       "      <th>avoid</th>\n",
       "      <th>bad</th>\n",
       "      <th>disappointed</th>\n",
       "      <th>nasty</th>\n",
       "      <th>overpriced</th>\n",
       "      <th>slow</th>\n",
       "      <th>tasteless</th>\n",
       "      <th>rude</th>\n",
       "      <th>undercooked</th>\n",
       "      <th>wasted</th>\n",
       "      <th>terrible</th>\n",
       "      <th>not</th>\n",
       "      <th>allcaps</th>\n",
       "    </tr>\n",
       "  </thead>\n",
       "  <tbody>\n",
       "    <tr>\n",
       "      <th>0</th>\n",
       "      <td>Wow... Loved this place.</td>\n",
       "      <td>1</td>\n",
       "      <td>False</td>\n",
       "      <td>False</td>\n",
       "      <td>False</td>\n",
       "      <td>False</td>\n",
       "      <td>False</td>\n",
       "      <td>False</td>\n",
       "      <td>False</td>\n",
       "      <td>False</td>\n",
       "      <td>False</td>\n",
       "      <td>False</td>\n",
       "      <td>False</td>\n",
       "      <td>False</td>\n",
       "      <td>False</td>\n",
       "    </tr>\n",
       "    <tr>\n",
       "      <th>1</th>\n",
       "      <td>Crust is not good.</td>\n",
       "      <td>0</td>\n",
       "      <td>False</td>\n",
       "      <td>False</td>\n",
       "      <td>False</td>\n",
       "      <td>False</td>\n",
       "      <td>False</td>\n",
       "      <td>False</td>\n",
       "      <td>False</td>\n",
       "      <td>False</td>\n",
       "      <td>False</td>\n",
       "      <td>False</td>\n",
       "      <td>False</td>\n",
       "      <td>True</td>\n",
       "      <td>False</td>\n",
       "    </tr>\n",
       "    <tr>\n",
       "      <th>2</th>\n",
       "      <td>Not tasty and the texture was just nasty.</td>\n",
       "      <td>0</td>\n",
       "      <td>False</td>\n",
       "      <td>False</td>\n",
       "      <td>False</td>\n",
       "      <td>True</td>\n",
       "      <td>False</td>\n",
       "      <td>False</td>\n",
       "      <td>False</td>\n",
       "      <td>False</td>\n",
       "      <td>False</td>\n",
       "      <td>False</td>\n",
       "      <td>False</td>\n",
       "      <td>True</td>\n",
       "      <td>False</td>\n",
       "    </tr>\n",
       "    <tr>\n",
       "      <th>3</th>\n",
       "      <td>Stopped by during the late May bank holiday off Rick Steve recommendation and loved it.</td>\n",
       "      <td>1</td>\n",
       "      <td>False</td>\n",
       "      <td>False</td>\n",
       "      <td>False</td>\n",
       "      <td>False</td>\n",
       "      <td>False</td>\n",
       "      <td>False</td>\n",
       "      <td>False</td>\n",
       "      <td>False</td>\n",
       "      <td>False</td>\n",
       "      <td>False</td>\n",
       "      <td>False</td>\n",
       "      <td>False</td>\n",
       "      <td>False</td>\n",
       "    </tr>\n",
       "    <tr>\n",
       "      <th>4</th>\n",
       "      <td>The selection on the menu was great and so were the prices.</td>\n",
       "      <td>1</td>\n",
       "      <td>False</td>\n",
       "      <td>False</td>\n",
       "      <td>False</td>\n",
       "      <td>False</td>\n",
       "      <td>False</td>\n",
       "      <td>False</td>\n",
       "      <td>False</td>\n",
       "      <td>False</td>\n",
       "      <td>False</td>\n",
       "      <td>False</td>\n",
       "      <td>False</td>\n",
       "      <td>False</td>\n",
       "      <td>False</td>\n",
       "    </tr>\n",
       "  </tbody>\n",
       "</table>\n",
       "</div>"
      ],
      "text/plain": [
       "                                                                                  messages  \\\n",
       "0  Wow... Loved this place.                                                                  \n",
       "1  Crust is not good.                                                                        \n",
       "2  Not tasty and the texture was just nasty.                                                 \n",
       "3  Stopped by during the late May bank holiday off Rick Steve recommendation and loved it.   \n",
       "4  The selection on the menu was great and so were the prices.                               \n",
       "\n",
       "   review  avoid    bad  disappointed  nasty  overpriced   slow  tasteless  \\\n",
       "0  1       False  False  False         False  False       False  False       \n",
       "1  0       False  False  False         False  False       False  False       \n",
       "2  0       False  False  False         True   False       False  False       \n",
       "3  1       False  False  False         False  False       False  False       \n",
       "4  1       False  False  False         False  False       False  False       \n",
       "\n",
       "    rude  undercooked  wasted  terrible   not   allcaps  \n",
       "0  False  False        False   False     False  False    \n",
       "1  False  False        False   False     True   False    \n",
       "2  False  False        False   False     True   False    \n",
       "3  False  False        False   False     False  False    \n",
       "4  False  False        False   False     False  False    "
      ]
     },
     "execution_count": 8,
     "metadata": {},
     "output_type": "execute_result"
    }
   ],
   "source": [
    "df.head()"
   ]
  },
  {
   "cell_type": "code",
   "execution_count": 9,
   "metadata": {},
   "outputs": [],
   "source": [
    "data = df[keywords + ['avoid']]\n",
    "target = df['review']"
   ]
  },
  {
   "cell_type": "code",
   "execution_count": 10,
   "metadata": {},
   "outputs": [
    {
     "data": {
      "text/plain": [
       "<matplotlib.axes._subplots.AxesSubplot at 0x1a2007d198>"
      ]
     },
     "execution_count": 10,
     "metadata": {},
     "output_type": "execute_result"
    },
    {
     "data": {
      "image/png": "[encoded data removed]",
      "text/plain": [
       "<Figure size 576x576 with 2 Axes>"
      ]
     },
     "metadata": {
      "needs_background": "light"
     },
     "output_type": "display_data"
    }
   ],
   "source": [
    "plt.figure(figsize=(8, 8))\n",
    "sns.heatmap(df.corr(), center=0, cmap='bwr',vmax=1,vmin=-1)"
   ]
  },
  {
   "cell_type": "markdown",
   "metadata": {},
   "source": [
    "#### Negative words with .2 or higher (not including message): Avoid, bad, nasty, rude, allcaps.  Let's see how the Bernoulli classifier is labeling this dataset.\n",
    "\n",
    "### Model 1 - Bernoulli Naive Bayes Model"
   ]
  },
  {
   "cell_type": "code",
   "execution_count": 11,
   "metadata": {},
   "outputs": [
    {
     "name": "stdout",
     "output_type": "stream",
     "text": [
      "Number of mislabeled reviews out of a total 1000 reviews: 356\n",
      "Accuracy : 64.4%\n"
     ]
    }
   ],
   "source": [
    "# Our data is binary / boolean, so we're importing the Bernoulli classifier.\n",
    "from sklearn.naive_bayes import BernoulliNB\n",
    "\n",
    "# Instantiate our model and store it in a new variable\n",
    "bnb = BernoulliNB()\n",
    "\n",
    "# Fit our model to the data\n",
    "y_pred = bnb.fit(data, target).predict(data)\n",
    "\n",
    "# Display our results\n",
    "print('Number of mislabeled reviews out of a total {} reviews: {}'.format(\n",
    "    data.shape[0],\n",
    "    (target != y_pred).sum()\n",
    "))\n",
    "print(\"Accuracy : {}%\".format(\n",
    "    bnb.score(data, target) * 100\n",
    "))"
   ]
  },
  {
   "cell_type": "code",
   "execution_count": 12,
   "metadata": {},
   "outputs": [
    {
     "data": {
      "text/plain": [
       "355    On the good side, the staff was genuinely pleasant and enthusiastic - a real treat.                                                                \n",
       "515    The food is very good for your typical bar food.                                                                                                   \n",
       "775    Their frozen margaritas are WAY too sugary for my taste.                                                                                           \n",
       "470    Very good, though!                                                                                                                                 \n",
       "357    As always the evening was wonderful and the food delicious!                                                                                        \n",
       "851    I probably would not go here again.                                                                                                                \n",
       "528    This was my first time and I can't wait until the next.                                                                                            \n",
       "199    It is worth the drive.                                                                                                                             \n",
       "801    And service was super friendly.                                                                                                                    \n",
       "747    I always order from the vegetarian menu during dinner, which has a wide array of options to choose from.                                           \n",
       "395    To summarize... the food was incredible, nay, transcendant... but nothing brings me joy quite like the memory of the pneumatic condiment dispenser.\n",
       "217    The Jamaican mojitos are delicious.                                                                                                                \n",
       "420    From what my dinner companions told me...everything was very fresh with nice texture and taste.                                                    \n",
       "593    It was extremely \"crumby\" and pretty tasteless.                                                                                                    \n",
       "713    If you are reading this please don't go there.                                                                                                     \n",
       "482    Seafood was limited to boiled shrimp and crab legs but the crab legs definitely did not taste fresh.                                               \n",
       "846    I would not recommend this place.                                                                                                                  \n",
       "77     The sweet potato fries were very good and seasoned well.                                                                                           \n",
       "945    The chipolte ranch dipping sause was tasteless, seemed thin and watered down with no heat.                                                         \n",
       "103    I LOVED their mussels cooked in this wine reduction, the duck was tender, and their potato dishes were delicious.                                  \n",
       "Name: messages, dtype: object"
      ]
     },
     "execution_count": 12,
     "metadata": {},
     "output_type": "execute_result"
    }
   ],
   "source": [
    "df['messages'].sample(20)"
   ]
  },
  {
   "cell_type": "code",
   "execution_count": 13,
   "metadata": {},
   "outputs": [
    {
     "name": "stdout",
     "output_type": "stream",
     "text": [
      "CONFUSION MATRIX:\n",
      "[[166 334]\n",
      " [ 22 478]]\n",
      "\n",
      "ACCURACTY SCORE: 0.644\n"
     ]
    }
   ],
   "source": [
    "# Create confusion matrix\n",
    "from sklearn.metrics import confusion_matrix\n",
    "from sklearn.metrics import accuracy_score\n",
    "from sklearn.metrics import classification_report\n",
    "results = confusion_matrix(target,y_pred)\n",
    "\n",
    "print('CONFUSION MATRIX:')\n",
    "\n",
    "print(results)\n",
    "print('\\n' + 'ACCURACTY SCORE:',accuracy_score(target, y_pred))\n",
    "# TP, FP, FN, TN  \n",
    "# columns pred, rows target due to order above"
   ]
  },
  {
   "cell_type": "markdown",
   "metadata": {},
   "source": [
    "* Out of the 500 actual instances of positive reviews(1st row), the classifier predicted correctly 166 of them.  Since we had used negative keywords, this makes sense.\n",
    "* Out of the 500 actual instances of negative reviews (2nd row), the classifer predicted correctly 478 of them.\n",
    "* Out of all 1000 reviews, the classifier predicted correctly 644 of them."
   ]
  },
  {
   "cell_type": "code",
   "execution_count": 14,
   "metadata": {},
   "outputs": [
    {
     "data": {
      "image/png": "[encoded data removed]",
      "text/plain": [
       "<Figure size 432x288 with 1 Axes>"
      ]
     },
     "metadata": {
      "needs_background": "light"
     },
     "output_type": "display_data"
    }
   ],
   "source": [
    "# Confusion Matrix spread\n",
    "fig1, ax1 = plt.subplots()\n",
    "ax1.set_title('Confusion Matrix for Model 1')\n",
    "ax1.boxplot(results, vert=False)\n",
    "plt.show()"
   ]
  },
  {
   "cell_type": "markdown",
   "metadata": {},
   "source": [
    "Boxplot 1 shows the _True Positive (166)_ and _False Negative (22)_ spread, while boxplot 2 shows the _False Positive (334)_ and _True Negative (478)_ spread."
   ]
  },
  {
   "cell_type": "code",
   "execution_count": 15,
   "metadata": {},
   "outputs": [
    {
     "name": "stdout",
     "output_type": "stream",
     "text": [
      "With 20% Holdout: 0.605\n",
      "Testing on Sample: 0.644\n"
     ]
    }
   ],
   "source": [
    "# Test your model with different holdout groups.\n",
    "\n",
    "from sklearn.model_selection import train_test_split\n",
    "# Use train_test_split to create the necessary training and test groups\n",
    "X_train, X_test, y_train, y_test = train_test_split(data, target, test_size=0.2, random_state=20)\n",
    "print('With 20% Holdout: ' + str(bnb.fit(X_train, y_train).score(X_test, y_test)))\n",
    "print('Testing on Sample: ' + str(bnb.fit(data, target).score(data, target)))"
   ]
  },
  {
   "cell_type": "code",
   "execution_count": 16,
   "metadata": {},
   "outputs": [
    {
     "name": "stdout",
     "output_type": "stream",
     "text": [
      "[0.62 0.64 0.63 0.59 0.64 0.67 0.69 0.65 0.66 0.64]\n"
     ]
    }
   ],
   "source": [
    "from sklearn.model_selection import cross_val_score\n",
    "score1 = cross_val_score(bnb, data, target, cv=10)\n",
    "\n",
    "print(score1)"
   ]
  },
  {
   "cell_type": "code",
   "execution_count": 17,
   "metadata": {},
   "outputs": [
    {
     "data": {
      "image/png": "[encoded data removed]",
      "text/plain": [
       "<Figure size 432x288 with 1 Axes>"
      ]
     },
     "metadata": {
      "needs_background": "light"
     },
     "output_type": "display_data"
    }
   ],
   "source": [
    "fig1, ax1 = plt.subplots()\n",
    "ax1.set_title('Cross Validation spread for Model 1')\n",
    "ax1.boxplot(score1, vert=False)\n",
    "plt.show()"
   ]
  },
  {
   "cell_type": "markdown",
   "metadata": {},
   "source": [
    "Testing with a 20% hold group comes out as 3.9% less with 20% holdout and identical on the testing sample.  And looking at the spread, there is only one outlier at 0.59 and since it is within .10 of the mean, it isn't a concern.\n",
    "\n",
    "Let's change models and see if there are any changes."
   ]
  },
  {
   "cell_type": "markdown",
   "metadata": {},
   "source": [
    "### Model 2 - Gaussian Naive Bayes"
   ]
  },
  {
   "cell_type": "markdown",
   "metadata": {},
   "source": [
    "Using the same keywords and dataset for second model."
   ]
  },
  {
   "cell_type": "code",
   "execution_count": 18,
   "metadata": {},
   "outputs": [],
   "source": [
    "data2 = df[keywords + ['avoid']]\n",
    "target2 = df['review']"
   ]
  },
  {
   "cell_type": "code",
   "execution_count": 19,
   "metadata": {},
   "outputs": [
    {
     "name": "stdout",
     "output_type": "stream",
     "text": [
      "Number of mislabeled reviews out of a total 1000 reviews: 434\n",
      "Accuracy : 56.599999999999994%\n"
     ]
    }
   ],
   "source": [
    "# Model 2 - Gaussian Naive Bayes\n",
    "from sklearn.naive_bayes import GaussianNB\n",
    "gnb = GaussianNB()\n",
    "\n",
    "y_pred2 = gnb.fit(data2, target2).predict(data2)\n",
    "print('Number of mislabeled reviews out of a total {} reviews: {}'.format(\n",
    "    data2.shape[0],\n",
    "    (target2 != y_pred2).sum()\n",
    "))\n",
    "print(\"Accuracy : {}%\".format(\n",
    "    gnb.score(data2, target2) * 100\n",
    "))"
   ]
  },
  {
   "cell_type": "code",
   "execution_count": 20,
   "metadata": {},
   "outputs": [
    {
     "name": "stdout",
     "output_type": "stream",
     "text": [
      "CONFUSION MATRIX:\n",
      "[[ 66 434]\n",
      " [  0 500]]\n",
      "\n",
      "ACCURACTY SCORE: 0.566\n"
     ]
    }
   ],
   "source": [
    "# Model 2 - Create confusion matrix\n",
    "results2 = confusion_matrix(target2,y_pred2)\n",
    "\n",
    "print('CONFUSION MATRIX:')\n",
    "\n",
    "print(results2)\n",
    "print('\\n' + 'ACCURACTY SCORE:',accuracy_score(target2, y_pred2))"
   ]
  },
  {
   "cell_type": "markdown",
   "metadata": {},
   "source": [
    "* Out of the 500 actual instances of positive reviews(1st row), the classifier predicted correctly 66 of them. Since we had used negative keywords, this makes sense.\n",
    "* Out of the 500 actual instances of negative reviews (2nd row), the classifer predicted correctly all 500 of them.\n",
    "* Out of all 1000 reviews, the classifier predicted correctly 566 of them.\n",
    "\n",
    "The negative keywords is very effective for classifying the True Negative reviews, but poor for classifying the positive reviews.  Which makes complete sense."
   ]
  },
  {
   "cell_type": "code",
   "execution_count": 21,
   "metadata": {},
   "outputs": [
    {
     "data": {
      "image/png": "[encoded data removed]",
      "text/plain": [
       "<Figure size 432x288 with 1 Axes>"
      ]
     },
     "metadata": {
      "needs_background": "light"
     },
     "output_type": "display_data"
    }
   ],
   "source": [
    "# Confusion Matrix spread\n",
    "fig1, ax1 = plt.subplots()\n",
    "ax1.set_title('Plot of Confusion Matrix for Model 2')\n",
    "ax1.boxplot(results2, vert=False)\n",
    "plt.show()"
   ]
  },
  {
   "cell_type": "code",
   "execution_count": 22,
   "metadata": {},
   "outputs": [
    {
     "name": "stdout",
     "output_type": "stream",
     "text": [
      "With 20% Holdout: 0.545\n",
      "Testing on Sample: 0.566\n"
     ]
    }
   ],
   "source": [
    "# Model 2 - Test your model with different holdout groups.\n",
    "\n",
    "from sklearn.model_selection import train_test_split\n",
    "# Use train_test_split to create the necessary training and test groups\n",
    "X_train2, X_test2, y_train2, y_test2 = train_test_split(data2, target2, test_size=0.2, random_state=20)\n",
    "print('With 20% Holdout: ' + str(gnb.fit(X_train2, y_train2).score(X_test2, y_test2)))\n",
    "print('Testing on Sample: ' + str(gnb.fit(data2, target2).score(data2, target2)))"
   ]
  },
  {
   "cell_type": "code",
   "execution_count": 23,
   "metadata": {},
   "outputs": [
    {
     "name": "stdout",
     "output_type": "stream",
     "text": [
      "[0.56 0.59 0.54 0.56 0.55 0.56 0.57 0.59 0.57 0.56]\n"
     ]
    }
   ],
   "source": [
    "# Model 2 - cross validation\n",
    "from sklearn.model_selection import cross_val_score\n",
    "score2 = cross_val_score(gnb, data2, target2, cv=10)\n",
    "print(score2)"
   ]
  },
  {
   "cell_type": "code",
   "execution_count": 24,
   "metadata": {},
   "outputs": [
    {
     "data": {
      "image/png": "[encoded data removed]",
      "text/plain": [
       "<Figure size 432x288 with 1 Axes>"
      ]
     },
     "metadata": {
      "needs_background": "light"
     },
     "output_type": "display_data"
    }
   ],
   "source": [
    "fig1, ax1 = plt.subplots()\n",
    "ax1.set_title('Cross Validation spread for Model 2')\n",
    "ax1.boxplot(score2, vert=False)\n",
    "plt.show()"
   ]
  },
  {
   "cell_type": "markdown",
   "metadata": {},
   "source": [
    "Gaussian Naive Bayes model accuracy decreased from our first model (64.4% to 56.6%), however there does not seem to be as much overfitting as shown by the cross validation from 0.54 to 0.59."
   ]
  },
  {
   "cell_type": "markdown",
   "metadata": {},
   "source": [
    "Perhaps switching to a postive model might improve accuracy and lower overfitting versus the prior two models looking for negative messages.\n",
    "\n",
    "### Model 3 - Identifying Positive Messages"
   ]
  },
  {
   "cell_type": "code",
   "execution_count": 25,
   "metadata": {},
   "outputs": [],
   "source": [
    "# Model 3 Based on positive messages\n",
    "df3 = raw_data.copy()"
   ]
  },
  {
   "cell_type": "code",
   "execution_count": 26,
   "metadata": {},
   "outputs": [
    {
     "data": {
      "text/html": [
       "<div>\n",
       "<style scoped>\n",
       "    .dataframe tbody tr th:only-of-type {\n",
       "        vertical-align: middle;\n",
       "    }\n",
       "\n",
       "    .dataframe tbody tr th {\n",
       "        vertical-align: top;\n",
       "    }\n",
       "\n",
       "    .dataframe thead th {\n",
       "        text-align: right;\n",
       "    }\n",
       "</style>\n",
       "<table border=\"1\" class=\"dataframe\">\n",
       "  <thead>\n",
       "    <tr style=\"text-align: right;\">\n",
       "      <th></th>\n",
       "      <th>messages</th>\n",
       "      <th>review</th>\n",
       "    </tr>\n",
       "  </thead>\n",
       "  <tbody>\n",
       "    <tr>\n",
       "      <th>0</th>\n",
       "      <td>Wow... Loved this place.</td>\n",
       "      <td>1</td>\n",
       "    </tr>\n",
       "    <tr>\n",
       "      <th>1</th>\n",
       "      <td>Crust is not good.</td>\n",
       "      <td>0</td>\n",
       "    </tr>\n",
       "    <tr>\n",
       "      <th>2</th>\n",
       "      <td>Not tasty and the texture was just nasty.</td>\n",
       "      <td>0</td>\n",
       "    </tr>\n",
       "  </tbody>\n",
       "</table>\n",
       "</div>"
      ],
      "text/plain": [
       "                                    messages  review\n",
       "0  Wow... Loved this place.                   1     \n",
       "1  Crust is not good.                         0     \n",
       "2  Not tasty and the texture was just nasty.  0     "
      ]
     },
     "execution_count": 26,
     "metadata": {},
     "output_type": "execute_result"
    }
   ],
   "source": [
    "df3.head(3)"
   ]
  },
  {
   "cell_type": "code",
   "execution_count": 27,
   "metadata": {},
   "outputs": [],
   "source": [
    "# Model 3 - Selecting postive keywords\n",
    "keywords3 = ['great','amazing','beautiful','mmmm','loved','wow','happier','good','delight',\n",
    "            'best', 'quick','fresh','yummy','liked']\n",
    "\n",
    "for key3 in keywords3:\n",
    "    df3[str(key3)] = df3.messages.str.contains(\n",
    "    '' + str(key3) + '',\n",
    "    case=False)"
   ]
  },
  {
   "cell_type": "code",
   "execution_count": 28,
   "metadata": {},
   "outputs": [],
   "source": [
    "data3 = df3[keywords3 + ['great']]\n",
    "target3 = df3['review']"
   ]
  },
  {
   "cell_type": "code",
   "execution_count": 29,
   "metadata": {},
   "outputs": [
    {
     "data": {
      "text/plain": [
       "<matplotlib.axes._subplots.AxesSubplot at 0x1a2100f860>"
      ]
     },
     "execution_count": 29,
     "metadata": {},
     "output_type": "execute_result"
    },
    {
     "data": {
      "image/png": "[encoded data removed]",
      "text/plain": [
       "<Figure size 576x576 with 2 Axes>"
      ]
     },
     "metadata": {
      "needs_background": "light"
     },
     "output_type": "display_data"
    }
   ],
   "source": [
    "# Model 3\n",
    "plt.figure(figsize=(8, 8))\n",
    "sns.heatmap(df3.corr(), center=0, cmap='bwr',vmax=1,vmin=-1)"
   ]
  },
  {
   "cell_type": "code",
   "execution_count": 30,
   "metadata": {},
   "outputs": [
    {
     "name": "stdout",
     "output_type": "stream",
     "text": [
      "Number of mislabeled reviews out of a total 1000 reviews: 389\n",
      "Accuracy : 61.1%\n"
     ]
    }
   ],
   "source": [
    "# Model 3 - Gaussian Naive Bayes\n",
    "y_pred3 = gnb.fit(data3, target3).predict(data3)\n",
    "print('Number of mislabeled reviews out of a total {} reviews: {}'.format(\n",
    "    data2.shape[0],\n",
    "    (target3 != y_pred3).sum()\n",
    "))\n",
    "print(\"Accuracy : {}%\".format(\n",
    "    gnb.score(data3, target3) * 100\n",
    "))"
   ]
  },
  {
   "cell_type": "code",
   "execution_count": 31,
   "metadata": {},
   "outputs": [
    {
     "name": "stdout",
     "output_type": "stream",
     "text": [
      "CONFUSION MATRIX:\n",
      "[[494   6]\n",
      " [383 117]]\n",
      "\n",
      "ACCURACTY SCORE: 0.611\n"
     ]
    }
   ],
   "source": [
    "# Model 3 - confusion matrix\n",
    "results3 = confusion_matrix(target3,y_pred3)\n",
    "\n",
    "print('CONFUSION MATRIX:')\n",
    "\n",
    "print(results3)\n",
    "print('\\n' + 'ACCURACTY SCORE:',accuracy_score(target3, y_pred3))"
   ]
  },
  {
   "cell_type": "markdown",
   "metadata": {},
   "source": [
    "* Out of the 500 actual instances of positive reviews(1st row), the classifier predicted correctly 494 of them. \n",
    "* Out of the 500 actual instances of negative reviews (2nd row), the classifer predicted correctly all 117 of them.\n",
    "* Out of all 1000 reviews, the classifier predicted correctly 611 of them."
   ]
  },
  {
   "cell_type": "code",
   "execution_count": 32,
   "metadata": {},
   "outputs": [
    {
     "data": {
      "image/png": "[encoded data removed]",
      "text/plain": [
       "<Figure size 432x288 with 1 Axes>"
      ]
     },
     "metadata": {
      "needs_background": "light"
     },
     "output_type": "display_data"
    }
   ],
   "source": [
    "# Confusion Matrix spread\n",
    "fig1, ax1 = plt.subplots()\n",
    "ax1.set_title('Confusion Matrix for Model 3')\n",
    "ax1.boxplot(results3, vert=False)\n",
    "plt.show()"
   ]
  },
  {
   "cell_type": "code",
   "execution_count": 33,
   "metadata": {},
   "outputs": [
    {
     "name": "stdout",
     "output_type": "stream",
     "text": [
      "With 20% Holdout: 0.61\n",
      "Testing on Sample: 0.611\n"
     ]
    }
   ],
   "source": [
    "# Model 3 - Test your model with different holdout groups.\n",
    "\n",
    "from sklearn.model_selection import train_test_split\n",
    "# Use train_test_split to create the necessary training and test groups\n",
    "X_train3, X_test3, y_train3, y_test3 = train_test_split(data3, target3, test_size=0.2, random_state=20)\n",
    "print('With 20% Holdout: ' + str(gnb.fit(X_train3, y_train3).score(X_test3, y_test3)))\n",
    "print('Testing on Sample: ' + str(gnb.fit(data3, target3).score(data3, target3)))"
   ]
  },
  {
   "cell_type": "code",
   "execution_count": 34,
   "metadata": {},
   "outputs": [
    {
     "name": "stdout",
     "output_type": "stream",
     "text": [
      "[0.67 0.56 0.59 0.59 0.59 0.57 0.6  0.64 0.58 0.65]\n"
     ]
    }
   ],
   "source": [
    "score3 = cross_val_score(gnb, data3, target3, cv=10)\n",
    "print(score3)"
   ]
  },
  {
   "cell_type": "code",
   "execution_count": 35,
   "metadata": {},
   "outputs": [
    {
     "data": {
      "image/png": "[encoded data removed]",
      "text/plain": [
       "<Figure size 432x288 with 1 Axes>"
      ]
     },
     "metadata": {
      "needs_background": "light"
     },
     "output_type": "display_data"
    }
   ],
   "source": [
    "fig1, ax1 = plt.subplots()\n",
    "ax1.set_title('Cross Validation spread for Model 3')\n",
    "ax1.boxplot(score3, vert=False)\n",
    "plt.show()"
   ]
  },
  {
   "cell_type": "markdown",
   "metadata": {},
   "source": [
    "My negative comment model was a little more successful at 64.4 though all models are fluctuating on the cross validation scores. This is most likely due to not being able to take context of a sentence into consideration, such as some words can be in both types of reviews but have completely different meanings.\n",
    "\n",
    "Since I was more successful with the Bernoulli model (Model 1), I'm going to try to improve it with additional features.\n",
    "\n",
    "### Model 4"
   ]
  },
  {
   "cell_type": "code",
   "execution_count": 36,
   "metadata": {},
   "outputs": [],
   "source": [
    "# Model 4 -  Based on negative messages\n",
    "df4 = raw_data.copy()"
   ]
  },
  {
   "cell_type": "markdown",
   "metadata": {},
   "source": [
    "I am going to adjust which of our previous words we used and add some new ones to improve the overall results.\n",
    "'"
   ]
  },
  {
   "cell_type": "code",
   "execution_count": 37,
   "metadata": {},
   "outputs": [],
   "source": [
    "# Model 4 - Selecting negative keywords'\n",
    "keywords4 = ['angry','awful','avoid','avoided', 'bad', 'did not','disappointed','disgusted',\n",
    "             'do not','mediocre','nasty','never','no','not ','overpriced', 'rude','suck', \n",
    "             'terrible','wasted']\n",
    "\n",
    "for key4 in keywords4:\n",
    "    df4[str(key4)] = df4.messages.str.contains(\n",
    "    '' + str(key4) + '',\n",
    "    case=False)"
   ]
  },
  {
   "cell_type": "code",
   "execution_count": 38,
   "metadata": {},
   "outputs": [],
   "source": [
    "# Feature for detecting all caps messages\n",
    "df4['allcaps'] = df4['messages'].str.isupper()"
   ]
  },
  {
   "cell_type": "code",
   "execution_count": 39,
   "metadata": {},
   "outputs": [],
   "source": [
    "data4 = df4[keywords4 + ['angry']]\n",
    "target4 = df4['review']"
   ]
  },
  {
   "cell_type": "code",
   "execution_count": 40,
   "metadata": {},
   "outputs": [
    {
     "data": {
      "text/plain": [
       "<matplotlib.axes._subplots.AxesSubplot at 0x1a211a6e80>"
      ]
     },
     "execution_count": 40,
     "metadata": {},
     "output_type": "execute_result"
    },
    {
     "data": {
      "image/png": "[encoded data removed]",
      "text/plain": [
       "<Figure size 576x576 with 2 Axes>"
      ]
     },
     "metadata": {
      "needs_background": "light"
     },
     "output_type": "display_data"
    }
   ],
   "source": [
    "# Model \n",
    "plt.figure(figsize=(8, 8))\n",
    "sns.heatmap(df4.corr(), center=0, cmap='bwr',vmax=1,vmin=-1)"
   ]
  },
  {
   "cell_type": "markdown",
   "metadata": {},
   "source": [
    "You can see some strong correlation with avoid, avoided, nasty, no, and not.  But is there overfitting?\n",
    "\n",
    "### Model 4 - Bernoulli Naive Bayes Model adjusted"
   ]
  },
  {
   "cell_type": "code",
   "execution_count": 41,
   "metadata": {},
   "outputs": [
    {
     "name": "stdout",
     "output_type": "stream",
     "text": [
      "Number of mislabeled reviews out of a total 1000 reviews: 323\n",
      "Accuracy : 67.7%\n"
     ]
    }
   ],
   "source": [
    "# Fit our model to the data\n",
    "y_pred4 = bnb.fit(data4, target4).predict(data4)\n",
    "\n",
    "# Display our results\n",
    "print('Number of mislabeled reviews out of a total {} reviews: {}'.format(\n",
    "    data4.shape[0],\n",
    "    (target4 != y_pred4).sum()\n",
    "))\n",
    "print(\"Accuracy : {}%\".format(\n",
    "    bnb.score(data4, target4) * 100\n",
    "))"
   ]
  },
  {
   "cell_type": "markdown",
   "metadata": {},
   "source": [
    "The accuracy improved from 64.4, but is it actually better?"
   ]
  },
  {
   "cell_type": "code",
   "execution_count": 42,
   "metadata": {},
   "outputs": [
    {
     "name": "stdout",
     "output_type": "stream",
     "text": [
      "[[232 268]\n",
      " [ 55 445]]\n"
     ]
    }
   ],
   "source": [
    "# Model 4 confusion matrix\n",
    "results4 = confusion_matrix(target4,y_pred4)\n",
    "print(results4)"
   ]
  },
  {
   "cell_type": "markdown",
   "metadata": {},
   "source": [
    "* Out of the 500 actual instances of positive reviews(1st row), the classifier predicted correctly 212 of them.\n",
    "* Out of the 500 actual instances of negative reviews (2nd row), the classifer predicted correctly all 450 of them.\n",
    "* Out of all 1000 reviews, the classifier predicted correctly 662 of them.\n",
    "\n",
    "While this is an improvement from all our previous models, it is truly a good improvement?  Learning how NLP is truly used and being to differentiate between positive and negative reviews will do more for our models, but we are not going over that lesson yet."
   ]
  },
  {
   "cell_type": "code",
   "execution_count": 43,
   "metadata": {},
   "outputs": [
    {
     "data": {
      "image/png": "[encoded data removed]",
      "text/plain": [
       "<Figure size 432x288 with 1 Axes>"
      ]
     },
     "metadata": {
      "needs_background": "light"
     },
     "output_type": "display_data"
    }
   ],
   "source": [
    "# Confusion Matrix spread\n",
    "fig1, ax1 = plt.subplots()\n",
    "ax1.set_title('Confusion Matrix for Model 3')\n",
    "ax1.boxplot(results4, vert=False)\n",
    "plt.show()"
   ]
  },
  {
   "cell_type": "code",
   "execution_count": 44,
   "metadata": {},
   "outputs": [
    {
     "name": "stdout",
     "output_type": "stream",
     "text": [
      "With 20% Holdout: 0.635\n",
      "Testing on Sample: 0.677\n"
     ]
    }
   ],
   "source": [
    "# Model 4 -Test your model with different holdout groups.\n",
    "\n",
    "# Use train_test_split to create the necessary training and test groups\n",
    "X_train4, X_test4, y_train4, y_test4 = train_test_split(data4, target4, test_size=0.2, random_state=20)\n",
    "print('With 20% Holdout: ' + str(bnb.fit(X_train4, y_train4).score(X_test4, y_test4)))\n",
    "print('Testing on Sample: ' + str(bnb.fit(data4, target4).score(data4, target4)))"
   ]
  },
  {
   "cell_type": "code",
   "execution_count": 45,
   "metadata": {},
   "outputs": [
    {
     "name": "stdout",
     "output_type": "stream",
     "text": [
      "[0.62 0.64 0.63 0.59 0.64 0.67 0.69 0.65 0.66 0.64]\n"
     ]
    }
   ],
   "source": [
    "# Model 4 - Cross Validation\n",
    "score4 = cross_val_score(bnb, data, target, cv=10)\n",
    "print(score4)"
   ]
  },
  {
   "cell_type": "code",
   "execution_count": 46,
   "metadata": {},
   "outputs": [
    {
     "data": {
      "image/png": "[encoded data removed]",
      "text/plain": [
       "<Figure size 432x288 with 1 Axes>"
      ]
     },
     "metadata": {
      "needs_background": "light"
     },
     "output_type": "display_data"
    }
   ],
   "source": [
    "fig1, ax1 = plt.subplots()\n",
    "ax1.set_title('Cross Validation spread for Model 3')\n",
    "ax1.boxplot(score4, vert=False)\n",
    "plt.show()"
   ]
  },
  {
   "cell_type": "raw",
   "metadata": {},
   "source": [
    "The spread is within .10, so we can say there is likely no overfitting."
   ]
  },
  {
   "cell_type": "code",
   "execution_count": 47,
   "metadata": {},
   "outputs": [
    {
     "name": "stdout",
     "output_type": "stream",
     "text": [
      "Model 1:\n",
      " [[166 334]\n",
      " [ 22 478]] \n",
      "\n",
      "Model 2:\n",
      " [[ 66 434]\n",
      " [  0 500]] \n",
      "\n",
      "Model 3:\n",
      " [[494   6]\n",
      " [383 117]] \n",
      "\n",
      "Model 4:\n",
      " [[232 268]\n",
      " [ 55 445]] \n",
      "\n"
     ]
    }
   ],
   "source": [
    "# Comparing all models (1, 2, & 4)\n",
    "print('Model 1:\\n', results, '\\n')\n",
    "print('Model 2:\\n', results2, '\\n')\n",
    "print('Model 3:\\n', results3, '\\n')\n",
    "print('Model 4:\\n', results4, '\\n')\n",
    "# TN, FP, \n",
    "# FN, TP"
   ]
  },
  {
   "cell_type": "markdown",
   "metadata": {},
   "source": [
    "Let's try one more model of a different type and see if we can improve the accuracy.\n",
    "\n",
    "## Model 5 "
   ]
  },
  {
   "cell_type": "code",
   "execution_count": 48,
   "metadata": {},
   "outputs": [],
   "source": [
    "# Model 5 -  Based on negative messages\n",
    "df5 = raw_data.copy()"
   ]
  },
  {
   "cell_type": "markdown",
   "metadata": {},
   "source": [
    "I am adding a few more keywords to see if it helps improve our accuracy."
   ]
  },
  {
   "cell_type": "code",
   "execution_count": 49,
   "metadata": {},
   "outputs": [],
   "source": [
    "# Model 5 - Selecting negative keywords'\n",
    "keywords5 = ['angry','avoid','avoided', 'bad', 'did not','disappointed','do not',\n",
    "             'fail','nasty','no','not ','overpriced', 'rude','suck', \n",
    "             'terrible','wasted','worse']\n",
    "\n",
    "for key5 in keywords5:\n",
    "    df5[str(key5)] = df5.messages.str.contains(\n",
    "    '' + str(key5) + '',\n",
    "    case=False)"
   ]
  },
  {
   "cell_type": "code",
   "execution_count": 50,
   "metadata": {},
   "outputs": [],
   "source": [
    "# Feature for detecting all caps messages\n",
    "df5['allcaps'] = df5['messages'].str.isupper()"
   ]
  },
  {
   "cell_type": "code",
   "execution_count": 51,
   "metadata": {},
   "outputs": [],
   "source": [
    "data5 = df5[keywords5 + ['angry']]\n",
    "target5 = df5['review']"
   ]
  },
  {
   "cell_type": "code",
   "execution_count": 52,
   "metadata": {},
   "outputs": [
    {
     "data": {
      "text/plain": [
       "<matplotlib.axes._subplots.AxesSubplot at 0x1a226bdd68>"
      ]
     },
     "execution_count": 52,
     "metadata": {},
     "output_type": "execute_result"
    },
    {
     "data": {
      "image/png": "[encoded data removed]",
      "text/plain": [
       "<Figure size 576x576 with 2 Axes>"
      ]
     },
     "metadata": {
      "needs_background": "light"
     },
     "output_type": "display_data"
    }
   ],
   "source": [
    "# Model \n",
    "plt.figure(figsize=(8, 8))\n",
    "sns.heatmap(df5.corr(), center=0, cmap='bwr',vmax=1,vmin=-1)"
   ]
  },
  {
   "cell_type": "markdown",
   "metadata": {},
   "source": [
    "### Model 5 - Complement Naive Bayes"
   ]
  },
  {
   "cell_type": "code",
   "execution_count": 53,
   "metadata": {},
   "outputs": [
    {
     "name": "stdout",
     "output_type": "stream",
     "text": [
      "Number of mislabeled reviews out of a total 1000 reviews: 602\n",
      "Accuracy : 39.800000000000004%\n"
     ]
    }
   ],
   "source": [
    "# Complement Naive Bayes\n",
    "from sklearn.naive_bayes import ComplementNB\n",
    "cnb = ComplementNB()\n",
    "\n",
    "# Fit our model to the data\n",
    "y_pred5 = cnb.fit(data5, target5).predict(data5)\n",
    "\n",
    "# Display our results\n",
    "print('Number of mislabeled reviews out of a total {} reviews: {}'.format(\n",
    "    data5.shape[0],\n",
    "    (target5 != y_pred5).sum()\n",
    "))\n",
    "print(\"Accuracy : {}%\".format(\n",
    "    cnb.score(data5, target5) * 100\n",
    "))"
   ]
  },
  {
   "cell_type": "markdown",
   "metadata": {},
   "source": []
  },
  {
   "cell_type": "code",
   "execution_count": 54,
   "metadata": {},
   "outputs": [
    {
     "name": "stdout",
     "output_type": "stream",
     "text": [
      "[[232 268]\n",
      " [ 55 445]]\n"
     ]
    }
   ],
   "source": [
    "# Model 4 confusion matrix\n",
    "results5 = confusion_matrix(target5,y_pred5)\n",
    "print(results4)"
   ]
  },
  {
   "cell_type": "markdown",
   "metadata": {},
   "source": [
    "The accuracy on this model leaves something to be desired.  However it did evaluate 0.89 (445) of the True Negative reviews (of the total of 500 negative reviews) correctly and I did target the keywords for negative reviews.  \n",
    "\n",
    "Being able to target negative and positive keywords separately would have done a better job of evaluating the reviews in all the models.  \n",
    "\n",
    "Key point to take from this is targeting one type of review will not effectively evaluate difference between multiple targets in the same dataset.  "
   ]
  },
  {
   "cell_type": "code",
   "execution_count": null,
   "metadata": {},
   "outputs": [],
   "source": []
  }
 ],
 "metadata": {
  "kernelspec": {
   "display_name": "Python 3",
   "language": "python",
   "name": "python3"
  },
  "language_info": {
   "codemirror_mode": {
    "name": "ipython",
    "version": 3
   },
   "file_extension": ".py",
   "mimetype": "text/x-python",
   "name": "python",
   "nbconvert_exporter": "python",
   "pygments_lexer": "ipython3",
   "version": "3.7.3"
  }
 },
 "nbformat": 4,
 "nbformat_minor": 2
}
